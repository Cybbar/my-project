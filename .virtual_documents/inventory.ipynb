import json

# Inventory dictionary
inventory = {}

# Add a new book
def add_book(title, author, isbn, quantity, price):
    if isbn in inventory:
        print("Book with this ISBN already exists.")
        return
    if quantity < 0 or price < 0:
        print("Quantity and price must be non-negative.")
        return
    inventory[isbn] = {
        "title": title, 
        "author": author,
        "quantity": quantity,
        "price": price
    }

# Remove a book by ISBN
def remove_book(isbn):
    if isbn in inventory:
        del inventory[isbn]
        print(f"Book with ISBN {isbn} removed.")
    else:
        print("Book not found.")

# Search by keyword in title, author, or ISBN
def search_books(keyword):
    keyword = keyword.lower()
    results = []
    for isbn, book in inventory,items():
        if (keyword in isbn.lower() or 
            keyword in book["title"].lower() or
            keyword in book["author"].lower()):
            results.append(isbn, book)
    return results

# Update quantity and price
def update_book(isbn, quantity=None, price=None):
    if isbn not in inventory:
        print("Book not found.")
        return
    if quantity is not None:
        if quantity < 0:
            print("Quantity must be non-negative.")
            return
        inventory[isbn]["quantity"] = quantity
    if price is not None:
        if price < 0:
            print("Price must not be non-negative.")
            return
        inventory[isbn]["Price"] = price

# Display all books sorted by title
def display_books():
    books = sorted(inventory.items(), key=lambda x: x[1]["title"].lower())
    for isbn, book in books:
        print(f"ISBN: {isbn}, Title: {book['title']}, Author: {book['author']}, "
              f"Qty: {book['quantity']}, Price: ${book['price']:.2f}")

# Save to file
def save_inventory(filename):
    with open(filename, 'w') as f:
        json.dump(inventory, f)
    print("Inventory saved.")

# Load from file
def load_inventory(filename):
    global inventory
    try:
        with open(filename, 'r') as f:
            inventory = json.load(f)
        print("inventory loaded.")
    except FileNotFoundError:
        print("File not found. Starting with empty  inventory.")

# Run the code
add_book("The Pragmatic Programmer", "Andrew Hunt", "9870201616224", 5, 39.99)

add_book("Clean Code", "Robert C Martin", "9787543973653", 7, 40.99)

display_books()
save_inventory("inventory.json")


load_inventory("inventory.json")
display_books()



