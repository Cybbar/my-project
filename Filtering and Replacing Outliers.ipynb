{
 "cells": [
  {
   "cell_type": "code",
   "execution_count": 1,
   "id": "6c1a3c3a-46a6-4ced-a929-0f8cfc703d98",
   "metadata": {},
   "outputs": [
    {
     "name": "stdout",
     "output_type": "stream",
     "text": [
      "Original DataFrame\n",
      "    product  price\n",
      "0    Laptop   1200\n",
      "1     Phone    500\n",
      "2    Tablet    300\n",
      "3   Monitor   1500\n",
      "4  Keyboard    100\n"
     ]
    }
   ],
   "source": [
    "import pandas as pd\n",
    "\n",
    "# Create sample dataset\n",
    "data = {\n",
    "    'product': ['Laptop', 'Phone', 'Tablet', 'Monitor', 'Keyboard'],\n",
    "    'price': [1200, 500, 300, 1500, 100]\n",
    "}\n",
    "df= pd.DataFrame(data)\n",
    "print(\"Original DataFrame\")\n",
    "print(df)"
   ]
  },
  {
   "cell_type": "code",
   "execution_count": 2,
   "id": "a9a40630-511f-4f0e-af10-e3c48165da3d",
   "metadata": {},
   "outputs": [
    {
     "name": "stdout",
     "output_type": "stream",
     "text": [
      "\n",
      "DataFrame after replacing outliers:\n",
      "    product  price\n",
      "0    Laptop    300\n",
      "1     Phone    500\n",
      "2    Tablet    300\n",
      "3   Monitor    300\n",
      "4  Keyboard    100\n"
     ]
    }
   ],
   "source": [
    "# Calculate the median of non-outlier prices (price <= 1000)\n",
    "median_price = df[df['price'] <= 1000]['price'].median()\n",
    "\n",
    "# Replace outliers (price > 1000) with median\n",
    "df.loc[df['price'] > 1000, 'price'] = median_price\n",
    "\n",
    "print(\"\\nDataFrame after replacing outliers:\")\n",
    "print(df)"
   ]
  }
 ],
 "metadata": {
  "kernelspec": {
   "display_name": "Python 3 (ipykernel)",
   "language": "python",
   "name": "python3"
  },
  "language_info": {
   "codemirror_mode": {
    "name": "ipython",
    "version": 3
   },
   "file_extension": ".py",
   "mimetype": "text/x-python",
   "name": "python",
   "nbconvert_exporter": "python",
   "pygments_lexer": "ipython3",
   "version": "3.11.7"
  }
 },
 "nbformat": 4,
 "nbformat_minor": 5
}
