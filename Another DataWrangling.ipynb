{
 "cells": [
  {
   "cell_type": "code",
   "execution_count": 1,
   "id": "ae873caf-0452-479f-9965-170b3dcfba5e",
   "metadata": {},
   "outputs": [
    {
     "name": "stdout",
     "output_type": "stream",
     "text": [
      "      Name   age           City  Income($) signup_date IsActive\n",
      "0    Alice  25.0          Lagos    50000.0  2022/01/15      yes\n",
      "1      Bob   NaN          Abuja        NaN  15-02-2022       no\n",
      "2  CHARLIE  35.0  port harcourt    70000.0  03/10/2022        y\n",
      "3    david  29.0          lagos    65000.0  2022.04.12     true\n",
      "4      Eve  22.0          Enugu        NaN        None         \n"
     ]
    }
   ],
   "source": [
    "import pandas as pd\n",
    "from IPython.display import display\n",
    "\n",
    "\n",
    "data = {\n",
    "    'Name': ['Alice', 'Bob', 'CHARLIE', 'david', 'Eve'],\n",
    "    'age': [25, None, 35, 29, 22],\n",
    "    'City': ['Lagos', 'Abuja', 'port harcourt', 'lagos', 'Enugu'],\n",
    "    'Income($)': [50000,  None, 70000, 65000, None],\n",
    "    'signup_date': ['2022/01/15', '15-02-2022', '03/10/2022', '2022.04.12', None],\n",
    "    'IsActive': ['yes', 'no', 'y', 'true', '']\n",
    "}\n",
    "df = pd.DataFrame(data)\n",
    "print(df)"
   ]
  },
  {
   "cell_type": "code",
   "execution_count": 2,
   "id": "2eb715c9-da99-4407-92a1-969f52ea16f7",
   "metadata": {},
   "outputs": [
    {
     "name": "stdout",
     "output_type": "stream",
     "text": [
      "Index(['name', 'age', 'city', 'income', 'signup_date', 'isactive'], dtype='object')\n"
     ]
    }
   ],
   "source": [
    "df.columns = df.columns.str.strip().str.lower().str.replace('[$() ]', '', regex=True).str.replace(' ', '_')\n",
    "print(df.columns)"
   ]
  },
  {
   "cell_type": "code",
   "execution_count": 3,
   "id": "de441e1f-8e45-4cd6-b039-555aecdb0e73",
   "metadata": {},
   "outputs": [
    {
     "name": "stdout",
     "output_type": "stream",
     "text": [
      "name           0\n",
      "age            1\n",
      "city           0\n",
      "income         2\n",
      "signup_date    1\n",
      "isactive       0\n",
      "dtype: int64\n"
     ]
    }
   ],
   "source": [
    "# Check where nulls exist\n",
    "print(df.isnull().sum())\n",
    "\n",
    "# Fill the missing income with mean\n",
    "df['income'] = df['income'].fillna(df['income'].mean())\n",
    "\n",
    "# Fill missing age with median\n",
    "df['age'] = df['age'].fillna(df['age'].median())\n",
    "\n",
    "# Drop rows with missing signup_date\n",
    "df = df.dropna(subset=['signup_date'])\n"
   ]
  },
  {
   "cell_type": "code",
   "execution_count": 4,
   "id": "04dbcb65-ea6b-490e-bfa2-4e2cd2bc6d5c",
   "metadata": {},
   "outputs": [],
   "source": [
    "# Standardize city names (capitalize first letter of each word)\n",
    "df['city'] = df['city'].str.title()\n",
    "\n",
    "# Fix name capitalization\n",
    "df['name'] = df['name'].str.title()\n",
    "\n",
    "# Convert signup_date to datetime\n",
    "df['signup_date'] = pd.to_datetime(df['signup_date'], errors='coerce')\n",
    "\n",
    "# Fix IsActive values to Boolean\n",
    "df['isactive'] = df['isactive'].str.lower().map({'yes': True, 'y': True, 'true': True, 'no': False, '': False})"
   ]
  },
  {
   "cell_type": "code",
   "execution_count": 5,
   "id": "86adf597-9f03-4b06-ae67-dfe3920bc800",
   "metadata": {},
   "outputs": [],
   "source": [
    "# Add column: years since signup\n",
    "from datetime import datetime\n",
    "df['years_since_signup'] = datetime.now().year - df['signup_date'].dt.year"
   ]
  },
  {
   "cell_type": "code",
   "execution_count": 7,
   "id": "d0d04062-32d4-48da-b7fd-69ac9e11b533",
   "metadata": {},
   "outputs": [
    {
     "data": {
      "text/html": [
       "<div>\n",
       "<style scoped>\n",
       "    .dataframe tbody tr th:only-of-type {\n",
       "        vertical-align: middle;\n",
       "    }\n",
       "\n",
       "    .dataframe tbody tr th {\n",
       "        vertical-align: top;\n",
       "    }\n",
       "\n",
       "    .dataframe thead th {\n",
       "        text-align: right;\n",
       "    }\n",
       "</style>\n",
       "<table border=\"1\" class=\"dataframe\">\n",
       "  <thead>\n",
       "    <tr style=\"text-align: right;\">\n",
       "      <th></th>\n",
       "      <th>name</th>\n",
       "      <th>age</th>\n",
       "      <th>city</th>\n",
       "      <th>income</th>\n",
       "      <th>signup_date</th>\n",
       "      <th>isactive</th>\n",
       "      <th>years_since_signup</th>\n",
       "    </tr>\n",
       "  </thead>\n",
       "  <tbody>\n",
       "    <tr>\n",
       "      <th>0</th>\n",
       "      <td>Alice</td>\n",
       "      <td>25.0</td>\n",
       "      <td>Lagos</td>\n",
       "      <td>50000.000000</td>\n",
       "      <td>2022-01-15</td>\n",
       "      <td>True</td>\n",
       "      <td>3.0</td>\n",
       "    </tr>\n",
       "    <tr>\n",
       "      <th>1</th>\n",
       "      <td>Bob</td>\n",
       "      <td>27.0</td>\n",
       "      <td>Abuja</td>\n",
       "      <td>61666.666667</td>\n",
       "      <td>NaT</td>\n",
       "      <td>False</td>\n",
       "      <td>NaN</td>\n",
       "    </tr>\n",
       "    <tr>\n",
       "      <th>2</th>\n",
       "      <td>Charlie</td>\n",
       "      <td>35.0</td>\n",
       "      <td>Port Harcourt</td>\n",
       "      <td>70000.000000</td>\n",
       "      <td>NaT</td>\n",
       "      <td>True</td>\n",
       "      <td>NaN</td>\n",
       "    </tr>\n",
       "    <tr>\n",
       "      <th>3</th>\n",
       "      <td>David</td>\n",
       "      <td>29.0</td>\n",
       "      <td>Lagos</td>\n",
       "      <td>65000.000000</td>\n",
       "      <td>NaT</td>\n",
       "      <td>True</td>\n",
       "      <td>NaN</td>\n",
       "    </tr>\n",
       "  </tbody>\n",
       "</table>\n",
       "</div>"
      ],
      "text/plain": [
       "      name   age           city        income signup_date  isactive  \\\n",
       "0    Alice  25.0          Lagos  50000.000000  2022-01-15      True   \n",
       "1      Bob  27.0          Abuja  61666.666667         NaT     False   \n",
       "2  Charlie  35.0  Port Harcourt  70000.000000         NaT      True   \n",
       "3    David  29.0          Lagos  65000.000000         NaT      True   \n",
       "\n",
       "   years_since_signup  \n",
       "0                 3.0  \n",
       "1                 NaN  \n",
       "2                 NaN  \n",
       "3                 NaN  "
      ]
     },
     "metadata": {},
     "output_type": "display_data"
    }
   ],
   "source": [
    "display(df)"
   ]
  },
  {
   "cell_type": "code",
   "execution_count": null,
   "id": "4a39d7fe-3e49-4fd4-b46b-9fef3f7acdce",
   "metadata": {},
   "outputs": [],
   "source": []
  }
 ],
 "metadata": {
  "kernelspec": {
   "display_name": "Python 3 (ipykernel)",
   "language": "python",
   "name": "python3"
  },
  "language_info": {
   "codemirror_mode": {
    "name": "ipython",
    "version": 3
   },
   "file_extension": ".py",
   "mimetype": "text/x-python",
   "name": "python",
   "nbconvert_exporter": "python",
   "pygments_lexer": "ipython3",
   "version": "3.11.7"
  }
 },
 "nbformat": 4,
 "nbformat_minor": 5
}
