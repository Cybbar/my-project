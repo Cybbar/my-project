{
 "cells": [
  {
   "cell_type": "code",
   "execution_count": 1,
   "id": "b308cc9b-bd10-43f2-aa58-aad516712b49",
   "metadata": {},
   "outputs": [
    {
     "ename": "ModuleNotFoundError",
     "evalue": "No module named 'pyotp'",
     "output_type": "error",
     "traceback": [
      "\u001b[0;31m---------------------------------------------------------------------------\u001b[0m",
      "\u001b[0;31mModuleNotFoundError\u001b[0m                       Traceback (most recent call last)",
      "Cell \u001b[0;32mIn[1], line 1\u001b[0m\n\u001b[0;32m----> 1\u001b[0m \u001b[38;5;28;01mimport\u001b[39;00m \u001b[38;5;21;01mpyotp\u001b[39;00m\n\u001b[1;32m      2\u001b[0m \u001b[38;5;28;01mimport\u001b[39;00m \u001b[38;5;21;01msmtplib\u001b[39;00m\n\u001b[1;32m      3\u001b[0m \u001b[38;5;28;01mfrom\u001b[39;00m \u001b[38;5;21;01memail\u001b[39;00m\u001b[38;5;21;01m.\u001b[39;00m\u001b[38;5;21;01mmime\u001b[39;00m\u001b[38;5;21;01m.\u001b[39;00m\u001b[38;5;21;01mtext\u001b[39;00m \u001b[38;5;28;01mimport\u001b[39;00m MIMEText\n",
      "\u001b[0;31mModuleNotFoundError\u001b[0m: No module named 'pyotp'"
     ]
    }
   ],
   "source": [
    "import pyotp\n",
    "import smtplib\n",
    "from email.mime.text import MIMEText\n",
    "import time\n",
    "\n",
    "# Your email credentials (use a test Gmail account)\n",
    "EMAIL_ADDRESS = \"your_email@gmail.com\"\n",
    "EMAIL_PASSWORD = \"your_app_password\" # Use Gmail app password, not your main password\n",
    "TO_EMAIL = \"receiver_email@gmail.com\" # Where to send OTP\n",
    "\n",
    "# Create OTP\n",
    "secret = pyotp.random_base32()\n",
    "totp = pyotp.TOTP(secret)\n",
    "otp_code = totp.now()\n",
    "\n",
    "# Send OTP via Email\n",
    "msg = MIMEText(f\"Your OTP code is: {otp_code}\")\n",
    "msg[\"Subject\"] = \"Your OTP code\"\n",
    "msg[\"From\"] = EMAIL_ADDRESS\n",
    "msg[\"TO\"] = TO_EMAIL\n",
    "\n",
    "with smtplib.SMTP_SSL(\"smtp.gmail.com\", 465) as server:\n",
    "    server.login(EMAIL_ADDRESS, EMAIL_PASSWORD)\n",
    "    server.send_message(msg)\n",
    "\n",
    "print(f\"OTP sent to {TO_EMAIL}\")\n",
    "\n",
    "# Verify\n",
    "user_input = input(\"Enter the OTP you received: \")\n",
    "if totp.verify(user_input):\n",
    "    print(\"OTP Verified Successfully!\")\n",
    "else:\n",
    "    print(\"OTP Invalid or Expired!\")"
   ]
  },
  {
   "cell_type": "code",
   "execution_count": null,
   "id": "01f09059-9ee7-44e3-9063-62c764512ee5",
   "metadata": {},
   "outputs": [],
   "source": [
    "import pytorch\n"
   ]
  }
 ],
 "metadata": {
  "kernelspec": {
   "display_name": "Python 3 (ipykernel)",
   "language": "python",
   "name": "python3"
  },
  "language_info": {
   "codemirror_mode": {
    "name": "ipython",
    "version": 3
   },
   "file_extension": ".py",
   "mimetype": "text/x-python",
   "name": "python",
   "nbconvert_exporter": "python",
   "pygments_lexer": "ipython3",
   "version": "3.11.7"
  }
 },
 "nbformat": 4,
 "nbformat_minor": 5
}
