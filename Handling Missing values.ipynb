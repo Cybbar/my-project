{
 "cells": [
  {
   "cell_type": "code",
   "execution_count": 1,
   "id": "3d86221a-f099-47a3-b17e-99b77f120004",
   "metadata": {},
   "outputs": [
    {
     "name": "stdout",
     "output_type": "stream",
     "text": [
      "Original DataFrame\n",
      "   order_id customer_name product   price\n",
      "0         1         Alice  Laptop  1000.0\n",
      "1         2           NaN   Phone     NaN\n",
      "2         3           Bob  Tablet   300.0\n",
      "3         4       Charlie     NaN  1500.0\n",
      "4         5           NaN   Mouse     NaN\n"
     ]
    }
   ],
   "source": [
    "import pandas as pd\n",
    "import numpy as np\n",
    "\n",
    "# Create sample dataset\n",
    "data = {\n",
    "    'order_id': [1, 2, 3, 4, 5],\n",
    "    'customer_name': ['Alice', np.nan, 'Bob', 'Charlie', np.nan],\n",
    "    'product': ['Laptop', 'Phone', 'Tablet', np.nan, 'Mouse'],\n",
    "    'price': [1000, np.nan, 300, 1500, np.nan]\n",
    "}\n",
    "df = pd.DataFrame(data)\n",
    "print(\"Original DataFrame\")\n",
    "print(df)"
   ]
  },
  {
   "cell_type": "code",
   "execution_count": 2,
   "id": "83d6157c-c729-4394-bf30-eb9ee636f1f1",
   "metadata": {},
   "outputs": [
    {
     "name": "stdout",
     "output_type": "stream",
     "text": [
      "\n",
      "Cleaned DataFrame\n",
      "   order_id customer_name product        price\n",
      "0         1         Alice  Laptop  1000.000000\n",
      "1         2       Unknown   Phone   933.333333\n",
      "2         3           Bob  Tablet   300.000000\n",
      "3         4       Charlie     NaN  1500.000000\n",
      "4         5       Unknown   Mouse   933.333333\n"
     ]
    }
   ],
   "source": [
    "# Fill missing customer_name with \"unknown\"\n",
    "df['customer_name'] = df['customer_name'].fillna('Unknown')\n",
    "\n",
    "# Fill missing price with mean price\n",
    "df['price'] = df['price'].fillna(df['price'].mean())\n",
    "\n",
    "print(\"\\nCleaned DataFrame\")\n",
    "print(df)"
   ]
  }
 ],
 "metadata": {
  "kernelspec": {
   "display_name": "Python 3 (ipykernel)",
   "language": "python",
   "name": "python3"
  },
  "language_info": {
   "codemirror_mode": {
    "name": "ipython",
    "version": 3
   },
   "file_extension": ".py",
   "mimetype": "text/x-python",
   "name": "python",
   "nbconvert_exporter": "python",
   "pygments_lexer": "ipython3",
   "version": "3.11.7"
  }
 },
 "nbformat": 4,
 "nbformat_minor": 5
}
