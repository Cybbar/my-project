{
 "cells": [
  {
   "cell_type": "code",
   "execution_count": 2,
   "id": "2403e95e-bbf7-4f1b-a5e8-e0fc5dacda18",
   "metadata": {},
   "outputs": [],
   "source": [
    "import pandas as pd\n",
    "\n",
    "# User info\n",
    "df_users = pd.DataFrame({\n",
    "    'user_id': [101, 102, 103, 104, 105],\n",
    "    'name': ['Alice', 'Bob', 'Charlie', 'David', 'Eve'],\n",
    "    'city': ['Lagos', 'Abuja', 'Enugu', 'Ibadan', 'Port Harcourt']\n",
    "})\n",
    "\n",
    "# Transaction info\n",
    "df_transactions = pd.DataFrame({\n",
    "    'user_id': [101, 102, 104, 106],\n",
    "    'purchase_amount': [5000, 12000, 7000, 8000],\n",
    "    'purchase_date': ['2023-01-15', '2023-02-20', '2023-03-10', '2023-04-12']\n",
    "})\n"
   ]
  },
  {
   "cell_type": "code",
   "execution_count": 3,
   "id": "4e691b4c-4b16-4f5d-9cf0-35ae9519eedb",
   "metadata": {},
   "outputs": [
    {
     "name": "stdout",
     "output_type": "stream",
     "text": [
      "   user_id     name           city  purchase_amount purchase_date\n",
      "0      101    Alice          Lagos           5000.0    2023-01-15\n",
      "1      102      Bob          Abuja          12000.0    2023-02-20\n",
      "2      103  Charlie          Enugu              NaN           NaN\n",
      "3      104    David         Ibadan           7000.0    2023-03-10\n",
      "4      105      Eve  Port Harcourt              NaN           NaN\n",
      "5      106      NaN            NaN           8000.0    2023-04-12\n"
     ]
    }
   ],
   "source": [
    "df_merged = pd.merge(df_users, df_transactions, on='user_id', how='outer')\n",
    "print(df_merged)"
   ]
  },
  {
   "cell_type": "code",
   "execution_count": 4,
   "id": "df094e13-010b-4a95-905b-993240a55010",
   "metadata": {},
   "outputs": [],
   "source": [
    "# Fill the missing purchases with 0\n",
    "df_merged['purchase_amount'] = df_merged['purchase_amount'].fillna(0)\n",
    "\n",
    "# Fill missing names with \"Unknown\"\n",
    "df_merged['name'] = df_merged['name'].fillna('Unknown')"
   ]
  },
  {
   "cell_type": "code",
   "execution_count": 5,
   "id": "47a589d6-1c8e-4c0f-bef6-99fb240fdfd9",
   "metadata": {},
   "outputs": [],
   "source": [
    "df_merged['purchase_date'] = pd.to_datetime(df_merged['purchase_date'], errors='coerce')\n",
    "df_merged['purchase_date'] = df_merged['purchase_date'].dt.year"
   ]
  },
  {
   "cell_type": "code",
   "execution_count": 6,
   "id": "9fa539da-fc22-4db9-9051-d150ae718b8a",
   "metadata": {},
   "outputs": [
    {
     "name": "stdout",
     "output_type": "stream",
     "text": [
      "            city  purchase_amount\n",
      "0          Abuja          12000.0\n",
      "1          Enugu              0.0\n",
      "2         Ibadan           7000.0\n",
      "3          Lagos           5000.0\n",
      "4  Port Harcourt              0.0\n"
     ]
    }
   ],
   "source": [
    "# Total purchase per city\n",
    "city_purchase = df_merged.groupby('city')['purchase_amount'].sum().reset_index()\n",
    "print(city_purchase)"
   ]
  },
  {
   "cell_type": "code",
   "execution_count": null,
   "id": "20f186d6-a4ad-4a3a-a9b4-10d39146c76c",
   "metadata": {},
   "outputs": [],
   "source": []
  }
 ],
 "metadata": {
  "kernelspec": {
   "display_name": "Python 3 (ipykernel)",
   "language": "python",
   "name": "python3"
  },
  "language_info": {
   "codemirror_mode": {
    "name": "ipython",
    "version": 3
   },
   "file_extension": ".py",
   "mimetype": "text/x-python",
   "name": "python",
   "nbconvert_exporter": "python",
   "pygments_lexer": "ipython3",
   "version": "3.11.7"
  }
 },
 "nbformat": 4,
 "nbformat_minor": 5
}
