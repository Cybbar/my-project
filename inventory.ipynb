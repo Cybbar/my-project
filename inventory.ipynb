{
 "cells": [
  {
   "cell_type": "code",
   "execution_count": 7,
   "id": "a436e59f-998a-48b6-9ee3-6a1a3848403d",
   "metadata": {},
   "outputs": [
    {
     "name": "stdout",
     "output_type": "stream",
     "text": [
      "ISBN: 9787543973653, Title: Clean Code, Author: Robert C Martin, Qty: 7, Price: $40.99\n",
      "ISBN: 9870201616224, Title: The Pragmatic Programmer, Author: Andrew Hunt, Qty: 5, Price: $39.99\n",
      "Inventory saved.\n"
     ]
    }
   ],
   "source": [
    "import json\n",
    "\n",
    "# Inventory dictionary\n",
    "inventory = {}\n",
    "\n",
    "# Add a new book\n",
    "def add_book(title, author, isbn, quantity, price):\n",
    "    if isbn in inventory:\n",
    "        print(\"Book with this ISBN already exists.\")\n",
    "        return\n",
    "    if quantity < 0 or price < 0:\n",
    "        print(\"Quantity and price must be non-negative.\")\n",
    "        return\n",
    "    inventory[isbn] = {\n",
    "        \"title\": title, \n",
    "        \"author\": author,\n",
    "        \"quantity\": quantity,\n",
    "        \"price\": price\n",
    "    }\n",
    "\n",
    "# Remove a book by ISBN\n",
    "def remove_book(isbn):\n",
    "    if isbn in inventory:\n",
    "        del inventory[isbn]\n",
    "        print(f\"Book with ISBN {isbn} removed.\")\n",
    "    else:\n",
    "        print(\"Book not found.\")\n",
    "\n",
    "# Search by keyword in title, author, or ISBN\n",
    "def search_books(keyword):\n",
    "    keyword = keyword.lower()\n",
    "    results = []\n",
    "    for isbn, book in inventory,items():\n",
    "        if (keyword in isbn.lower() or \n",
    "            keyword in book[\"title\"].lower() or\n",
    "            keyword in book[\"author\"].lower()):\n",
    "            results.append(isbn, book)\n",
    "    return results\n",
    "\n",
    "# Update quantity and price\n",
    "def update_book(isbn, quantity=None, price=None):\n",
    "    if isbn not in inventory:\n",
    "        print(\"Book not found.\")\n",
    "        return\n",
    "    if quantity is not None:\n",
    "        if quantity < 0:\n",
    "            print(\"Quantity must be non-negative.\")\n",
    "            return\n",
    "        inventory[isbn][\"quantity\"] = quantity\n",
    "    if price is not None:\n",
    "        if price < 0:\n",
    "            print(\"Price must not be non-negative.\")\n",
    "            return\n",
    "        inventory[isbn][\"Price\"] = price\n",
    "\n",
    "# Display all books sorted by title\n",
    "def display_books():\n",
    "    books = sorted(inventory.items(), key=lambda x: x[1][\"title\"].lower())\n",
    "    for isbn, book in books:\n",
    "        print(f\"ISBN: {isbn}, Title: {book['title']}, Author: {book['author']}, \"\n",
    "              f\"Qty: {book['quantity']}, Price: ${book['price']:.2f}\")\n",
    "\n",
    "# Save to file\n",
    "def save_inventory(filename):\n",
    "    with open(filename, 'w') as f:\n",
    "        json.dump(inventory, f)\n",
    "    print(\"Inventory saved.\")\n",
    "\n",
    "# Load from file\n",
    "def load_inventory(filename):\n",
    "    global inventory\n",
    "    try:\n",
    "        with open(filename, 'r') as f:\n",
    "            inventory = json.load(f)\n",
    "        print(\"inventory loaded.\")\n",
    "    except FileNotFoundError:\n",
    "        print(\"File not found. Starting with empty  inventory.\")\n",
    "\n",
    "# Run the code\n",
    "add_book(\"The Pragmatic Programmer\", \"Andrew Hunt\", \"9870201616224\", 5, 39.99)\n",
    "\n",
    "add_book(\"Clean Code\", \"Robert C Martin\", \"9787543973653\", 7, 40.99)\n",
    "\n",
    "display_books()\n",
    "save_inventory(\"inventory.json\")"
   ]
  },
  {
   "cell_type": "code",
   "execution_count": 9,
   "id": "b700fb58-8d5f-4b81-a7ea-b79a83d64f44",
   "metadata": {},
   "outputs": [
    {
     "name": "stdout",
     "output_type": "stream",
     "text": [
      "inventory loaded.\n",
      "ISBN: 9787543973653, Title: Clean Code, Author: Robert C Martin, Qty: 7, Price: $40.99\n",
      "ISBN: 9870201616224, Title: The Pragmatic Programmer, Author: Andrew Hunt, Qty: 5, Price: $39.99\n"
     ]
    }
   ],
   "source": [
    "load_inventory(\"inventory.json\")\n",
    "display_books()"
   ]
  },
  {
   "cell_type": "code",
   "execution_count": null,
   "id": "877635a5-4531-410e-9361-0778964ac28e",
   "metadata": {},
   "outputs": [],
   "source": []
  }
 ],
 "metadata": {
  "kernelspec": {
   "display_name": "Python 3 (ipykernel)",
   "language": "python",
   "name": "python3"
  },
  "language_info": {
   "codemirror_mode": {
    "name": "ipython",
    "version": 3
   },
   "file_extension": ".py",
   "mimetype": "text/x-python",
   "name": "python",
   "nbconvert_exporter": "python",
   "pygments_lexer": "ipython3",
   "version": "3.11.7"
  }
 },
 "nbformat": 4,
 "nbformat_minor": 5
}
