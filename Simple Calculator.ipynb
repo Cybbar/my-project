{
 "cells": [
  {
   "cell_type": "code",
   "execution_count": 5,
   "id": "57a71877-7466-4c34-b510-7c13c62b9c30",
   "metadata": {},
   "outputs": [
    {
     "name": "stdout",
     "output_type": "stream",
     "text": [
      "Simple Calculator\n",
      "\n",
      "With operations +, -, *, /\n"
     ]
    },
    {
     "name": "stdin",
     "output_type": "stream",
     "text": [
      "Enter the first number: 78\n",
      "Enter operations +, -, *, /:  +\n",
      "Enter the second number: 7\n"
     ]
    },
    {
     "name": "stdout",
     "output_type": "stream",
     "text": [
      "Result: 85.0 \n"
     ]
    }
   ],
   "source": [
    "def calculator():\n",
    "    print(\"Simple Calculator\")\n",
    "    print(\"\\nWith operations +, -, *, /\")\n",
    "\n",
    "    try:\n",
    "        num1 = float(input(\"Enter the first number:\"))\n",
    "        op = input(\"Enter operations +, -, *, /: \")\n",
    "        num2 = float(input(\"Enter the second number:\"))\n",
    "\n",
    "        \n",
    "        if op == '+':\n",
    "            result =  num1 + num2\n",
    "        elif op == '-':\n",
    "            result = num1 - num2\n",
    "        elif op == '*':\n",
    "            result = num1 * num2\n",
    "        elif op == '/':\n",
    "            if num2 == 0:\n",
    "                return \"Error: cannot be divided by zero!\"\n",
    "            result = num1 / num2\n",
    "        else:\n",
    "            'Error: Invalid operation!'\n",
    "\n",
    "        return f\"Result: {result} \"\n",
    "\n",
    "    except ValueError:\n",
    "        return \"Error: Please enter valid numbers\"\n",
    "\n",
    "# Run the calculator\n",
    "print(calculator())\n",
    "\n",
    "        "
   ]
  },
  {
   "cell_type": "code",
   "execution_count": null,
   "id": "99f04f9e-915f-4b79-be82-e95197c6ecf2",
   "metadata": {},
   "outputs": [],
   "source": []
  }
 ],
 "metadata": {
  "kernelspec": {
   "display_name": "Python 3 (ipykernel)",
   "language": "python",
   "name": "python3"
  },
  "language_info": {
   "codemirror_mode": {
    "name": "ipython",
    "version": 3
   },
   "file_extension": ".py",
   "mimetype": "text/x-python",
   "name": "python",
   "nbconvert_exporter": "python",
   "pygments_lexer": "ipython3",
   "version": "3.11.7"
  }
 },
 "nbformat": 4,
 "nbformat_minor": 5
}
