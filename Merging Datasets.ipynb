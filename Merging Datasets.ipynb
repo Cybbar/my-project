{
 "cells": [
  {
   "cell_type": "code",
   "execution_count": 2,
   "id": "3aef20c5-e35a-4eb2-9399-e6d58db010f1",
   "metadata": {},
   "outputs": [
    {
     "name": "stdout",
     "output_type": "stream",
     "text": [
      "Orders DataFrame\n",
      "   order_id  customer_id product\n",
      "0         1          101  Laptop\n",
      "1         2          102   Phone\n",
      "2         3          103  Tablet\n",
      "\n",
      "Customers DataFrame\n",
      "   customer_id     name\n",
      "0          101    Alice\n",
      "1          103      Bob\n",
      "2          104  Charlie\n"
     ]
    }
   ],
   "source": [
    "import pandas as pd\n",
    "\n",
    "# Create orders dataset\n",
    "orders = pd.DataFrame({\n",
    "    'order_id': [1, 2, 3],\n",
    "    'customer_id': [101, 102, 103],\n",
    "    'product':['Laptop', 'Phone', 'Tablet']\n",
    "})\n",
    "\n",
    "# Create customers dataset\n",
    "customers = pd.DataFrame({\n",
    "    'customer_id': [101, 103, 104],\n",
    "    'name': ['Alice', 'Bob', 'Charlie']\n",
    "})\n",
    "\n",
    "print(\"Orders DataFrame\")\n",
    "print(orders)\n",
    "print(\"\\nCustomers DataFrame\")\n",
    "print(customers)"
   ]
  },
  {
   "cell_type": "code",
   "execution_count": 3,
   "id": "f762c2aa-10d9-48fe-8291-dd73e6c51ab2",
   "metadata": {},
   "outputs": [
    {
     "name": "stdout",
     "output_type": "stream",
     "text": [
      "\n",
      "Merged DataFrame\n",
      "   order_id  customer_id product   name\n",
      "0         1          101  Laptop  Alice\n",
      "1         3          103  Tablet    Bob\n"
     ]
    }
   ],
   "source": [
    "# Merge datasets on customer_id(inner join)\n",
    "merged_df = pd.merge(orders, customers, on='customer_id', how='inner')\n",
    "\n",
    "print(\"\\nMerged DataFrame\")\n",
    "print(merged_df)"
   ]
  }
 ],
 "metadata": {
  "kernelspec": {
   "display_name": "Python 3 (ipykernel)",
   "language": "python",
   "name": "python3"
  },
  "language_info": {
   "codemirror_mode": {
    "name": "ipython",
    "version": 3
   },
   "file_extension": ".py",
   "mimetype": "text/x-python",
   "name": "python",
   "nbconvert_exporter": "python",
   "pygments_lexer": "ipython3",
   "version": "3.11.7"
  }
 },
 "nbformat": 4,
 "nbformat_minor": 5
}
