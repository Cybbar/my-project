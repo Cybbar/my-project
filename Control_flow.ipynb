{
 "cells": [
  {
   "cell_type": "code",
   "execution_count": null,
   "id": "ba77c87f-8c98-4239-b90c-f0db8530131f",
   "metadata": {},
   "outputs": [],
   "source": [
    "# CONTROL FLOW\n",
    "if condition:\n",
    "    # Do this if condition is True\n",
    "elif  another_condition: # else_if\n",
    "    # Do this if another_condition is True\n",
    "else:\n",
    "    # Do this if none of the condition are True"
   ]
  },
  {
   "cell_type": "code",
   "execution_count": 8,
   "id": "543608d9-7dc2-4698-aac6-f62b3cc7014d",
   "metadata": {},
   "outputs": [
    {
     "name": "stdout",
     "output_type": "stream",
     "text": [
      "You are a child!\n"
     ]
    }
   ],
   "source": [
    "# Basic if statement\n",
    "age = 14\n",
    "\n",
    "if age >= 18:\n",
    "    print(\"You are an adult!\")\n",
    "else:\n",
    "    print(\"You are a child!\")"
   ]
  },
  {
   "cell_type": "code",
   "execution_count": 21,
   "id": "8f777551-6a7c-45cf-8355-733d08fcf846",
   "metadata": {},
   "outputs": [
    {
     "name": "stdin",
     "output_type": "stream",
     "text": [
      "Enter number:  120\n"
     ]
    },
    {
     "name": "stdout",
     "output_type": "stream",
     "text": [
      "Grade: A\n"
     ]
    }
   ],
   "source": [
    "score = int(input(\"Enter number: \"))\n",
    "\n",
    "if score >= 90:\n",
    "    print(\"Grade: A\")\n",
    "elif score >= 80:\n",
    "    print(\"Grade: B\")\n",
    "elif score >= 70:\n",
    "    print(\"Grade: C\")\n",
    "else:\n",
    "    print(\"Grade: F\")"
   ]
  },
  {
   "cell_type": "code",
   "execution_count": 24,
   "id": "60a5f911-5f86-4b27-a000-eecf0888476d",
   "metadata": {},
   "outputs": [
    {
     "name": "stdin",
     "output_type": "stream",
     "text": [
      "Enter a number:  0\n"
     ]
    },
    {
     "name": "stdout",
     "output_type": "stream",
     "text": [
      "Zero\n"
     ]
    }
   ],
   "source": [
    "user = int(input(\"Enter a number: \"))\n",
    "\n",
    "if user > 0:\n",
    "    print(\"Positive number\")\n",
    "elif user < 0:\n",
    "    print(\"Negative number\")\n",
    "else:\n",
    "    print(\"Zero\")\n",
    "           "
   ]
  },
  {
   "cell_type": "code",
   "execution_count": 25,
   "id": "2ea61298-97b1-4962-ad6c-a36a9df95449",
   "metadata": {},
   "outputs": [
    {
     "name": "stdin",
     "output_type": "stream",
     "text": [
      "Enter username:  admin\n",
      "Enter password:  1234\n"
     ]
    },
    {
     "name": "stdout",
     "output_type": "stream",
     "text": [
      "Access granted.\n"
     ]
    }
   ],
   "source": [
    "username = input(\"Enter username: \")\n",
    "password = input(\"Enter password: \")\n",
    "\n",
    "if username == \"admin\":\n",
    "    if password == \"1234\":\n",
    "        print(\"Access granted.\")\n",
    "    else:\n",
    "        print(\"Incorrect password.\")\n",
    "else:\n",
    "    print(\"Username not recognise.\")"
   ]
  },
  {
   "cell_type": "code",
   "execution_count": null,
   "id": "07563073-c481-402b-bde3-9708bbfb5c18",
   "metadata": {},
   "outputs": [],
   "source": []
  }
 ],
 "metadata": {
  "kernelspec": {
   "display_name": "Python 3 (ipykernel)",
   "language": "python",
   "name": "python3"
  },
  "language_info": {
   "codemirror_mode": {
    "name": "ipython",
    "version": 3
   },
   "file_extension": ".py",
   "mimetype": "text/x-python",
   "name": "python",
   "nbconvert_exporter": "python",
   "pygments_lexer": "ipython3",
   "version": "3.11.7"
  }
 },
 "nbformat": 4,
 "nbformat_minor": 5
}
