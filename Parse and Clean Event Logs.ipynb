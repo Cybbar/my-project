{
 "cells": [
  {
   "cell_type": "code",
   "execution_count": 5,
   "id": "089ed15c-729b-452a-95a3-4a524855c227",
   "metadata": {},
   "outputs": [
    {
     "data": {
      "text/html": [
       "<div>\n",
       "<style scoped>\n",
       "    .dataframe tbody tr th:only-of-type {\n",
       "        vertical-align: middle;\n",
       "    }\n",
       "\n",
       "    .dataframe tbody tr th {\n",
       "        vertical-align: top;\n",
       "    }\n",
       "\n",
       "    .dataframe thead th {\n",
       "        text-align: right;\n",
       "    }\n",
       "</style>\n",
       "<table border=\"1\" class=\"dataframe\">\n",
       "  <thead>\n",
       "    <tr style=\"text-align: right;\">\n",
       "      <th></th>\n",
       "      <th>Timestamp</th>\n",
       "      <th>User</th>\n",
       "      <th>Action</th>\n",
       "    </tr>\n",
       "  </thead>\n",
       "  <tbody>\n",
       "    <tr>\n",
       "      <th>0</th>\n",
       "      <td>2023-01-01 13:00</td>\n",
       "      <td>admin</td>\n",
       "      <td>login</td>\n",
       "    </tr>\n",
       "    <tr>\n",
       "      <th>1</th>\n",
       "      <td>01/02/2023 14:30</td>\n",
       "      <td>guest</td>\n",
       "      <td>logout</td>\n",
       "    </tr>\n",
       "    <tr>\n",
       "      <th>2</th>\n",
       "      <td>March 3, 2023 09:00</td>\n",
       "      <td>Admin</td>\n",
       "      <td>Login</td>\n",
       "    </tr>\n",
       "    <tr>\n",
       "      <th>3</th>\n",
       "      <td>not recorded</td>\n",
       "      <td>SYSTEM</td>\n",
       "      <td>ERROR</td>\n",
       "    </tr>\n",
       "    <tr>\n",
       "      <th>4</th>\n",
       "      <td>2023-05-05</td>\n",
       "      <td>None</td>\n",
       "      <td>log in</td>\n",
       "    </tr>\n",
       "  </tbody>\n",
       "</table>\n",
       "</div>"
      ],
      "text/plain": [
       "             Timestamp    User  Action\n",
       "0     2023-01-01 13:00   admin   login\n",
       "1     01/02/2023 14:30   guest  logout\n",
       "2  March 3, 2023 09:00   Admin   Login\n",
       "3         not recorded  SYSTEM   ERROR\n",
       "4           2023-05-05    None  log in"
      ]
     },
     "execution_count": 5,
     "metadata": {},
     "output_type": "execute_result"
    }
   ],
   "source": [
    "import pandas as pd\n",
    "\n",
    "log_data = {\n",
    "    'Timestamp': ['2023-01-01 13:00', '01/02/2023 14:30', 'March 3, 2023 09:00', 'not recorded', '2023-05-05'],\n",
    "    'User': ['admin', 'guest', 'Admin', 'SYSTEM', None],\n",
    "    'Action': ['login', 'logout', 'Login', 'ERROR', 'log in']\n",
    "}\n",
    "logs = pd.DataFrame(log_data)\n",
    "logs"
   ]
  },
  {
   "cell_type": "code",
   "execution_count": 8,
   "id": "b387f2ce-1a8c-4f76-b490-6d7b2ed2ef68",
   "metadata": {},
   "outputs": [
    {
     "data": {
      "text/html": [
       "<div>\n",
       "<style scoped>\n",
       "    .dataframe tbody tr th:only-of-type {\n",
       "        vertical-align: middle;\n",
       "    }\n",
       "\n",
       "    .dataframe tbody tr th {\n",
       "        vertical-align: top;\n",
       "    }\n",
       "\n",
       "    .dataframe thead th {\n",
       "        text-align: right;\n",
       "    }\n",
       "</style>\n",
       "<table border=\"1\" class=\"dataframe\">\n",
       "  <thead>\n",
       "    <tr style=\"text-align: right;\">\n",
       "      <th></th>\n",
       "      <th>Timestamp</th>\n",
       "      <th>User</th>\n",
       "      <th>Action</th>\n",
       "    </tr>\n",
       "  </thead>\n",
       "  <tbody>\n",
       "    <tr>\n",
       "      <th>0</th>\n",
       "      <td>2023-01-01 13:00:00</td>\n",
       "      <td>admin</td>\n",
       "      <td>NaN</td>\n",
       "    </tr>\n",
       "    <tr>\n",
       "      <th>1</th>\n",
       "      <td>NaT</td>\n",
       "      <td>guest</td>\n",
       "      <td>NaN</td>\n",
       "    </tr>\n",
       "    <tr>\n",
       "      <th>2</th>\n",
       "      <td>NaT</td>\n",
       "      <td>admin</td>\n",
       "      <td>NaN</td>\n",
       "    </tr>\n",
       "    <tr>\n",
       "      <th>3</th>\n",
       "      <td>NaT</td>\n",
       "      <td>system</td>\n",
       "      <td>NaN</td>\n",
       "    </tr>\n",
       "  </tbody>\n",
       "</table>\n",
       "</div>"
      ],
      "text/plain": [
       "            Timestamp    User  Action\n",
       "0 2023-01-01 13:00:00   admin     NaN\n",
       "1                 NaT   guest     NaN\n",
       "2                 NaT   admin     NaN\n",
       "3                 NaT  system     NaN"
      ]
     },
     "execution_count": 8,
     "metadata": {},
     "output_type": "execute_result"
    }
   ],
   "source": [
    "# Clean Timestamp\n",
    "logs['Timestamp'] = pd.to_datetime(logs['Timestamp'], errors='coerce')\n",
    "\n",
    "# Clean User\n",
    "logs['User'] = logs['User'].str.strip().str.lower()\n",
    "\n",
    "# Normalize Action\n",
    "logs['Action'] = logs['Action'].str.lower().str.strip().str.replace({'log in': 'login', 'Login': 'login'}, '')\n",
    "\n",
    "# Drop missing users\n",
    "logs = logs.dropna(subset=['User'])\n",
    "\n",
    "logs"
   ]
  },
  {
   "cell_type": "code",
   "execution_count": null,
   "id": "a7d4114e-1515-4a41-b6f9-6bc9a4c482b1",
   "metadata": {},
   "outputs": [],
   "source": [
    "\n"
   ]
  }
 ],
 "metadata": {
  "kernelspec": {
   "display_name": "Python 3 (ipykernel)",
   "language": "python",
   "name": "python3"
  },
  "language_info": {
   "codemirror_mode": {
    "name": "ipython",
    "version": 3
   },
   "file_extension": ".py",
   "mimetype": "text/x-python",
   "name": "python",
   "nbconvert_exporter": "python",
   "pygments_lexer": "ipython3",
   "version": "3.11.7"
  }
 },
 "nbformat": 4,
 "nbformat_minor": 5
}
